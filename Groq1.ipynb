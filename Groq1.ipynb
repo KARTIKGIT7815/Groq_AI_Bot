{
 "cells": [
  {
   "cell_type": "code",
   "execution_count": 1,
   "metadata": {},
   "outputs": [],
   "source": [
    "from groq import Groq"
   ]
  },
  {
   "cell_type": "code",
   "execution_count": 2,
   "metadata": {},
   "outputs": [
    {
     "name": "stdout",
     "output_type": "stream",
     "text": [
      "Tukaram (1608-1649) was a prominent Indian poet and saint from the Maharashtra region of India. He is considered one of the greatest Marathi poets and is revered as a saint in the Varkari movement, a spiritual tradition that emphasizes devotion to Lord Vitthal (Krishna).\n",
      "\n",
      "Tukaram was born in the small village of Dehu, near Pune, Maharashtra, in a humble family of tailors. He was married at the age of 11 and had several children. Despite his humble circumstances, Tukaram was deeply spiritual and began writing devotional poetry (Abhangas) at a young age.\n",
      "\n",
      "Tukaram's poetry is known for its simplicity, humility, and joyous expression of devotion to Lord Vitthal. He believed that devotion to God is the ultimate goal of human life and that it could be achieved through selfless service, love, and surrender. His poetry is characterized by its use of everyday language, vivid imagery, and strong emotional content.\n",
      "\n",
      "Tukaram's life was marked by struggles and hardships, including poverty, the loss of his children, and the neglect of his family. However, he remained steadfast in his devotion to God and continued to write poetry, even in the midst of adversity.\n",
      "\n",
      "Tukaram is known for his unique poetic style, which is a blend of folk traditions and classical Sanskrit influences. His poetry has been widely admired and studied for its beauty, sincerity, and spiritual depth.\n",
      "\n",
      "Some of Tukaram's notable works include:\n",
      "\n",
      "1. Abhangas: A collection of devotional poems, many of which are still widely recited and sung in India.\n",
      "2. Bhakticharita: A biography of Tukaram's life, written by his disciple, Gangadhara.\n",
      "3. Vrittisukti: A collection of philosophical and spiritual poems.\n",
      "\n",
      "Tukaram's legacy extends beyond his poetry to influence in Indian spirituality and culture. He has been an inspiration to many people, including the famous Marathi poet and saint, Sant Jnyaneeshwarr Maharaj. Today, Tukaram is revered as a saint in the Varkari movement and is celebrated as a symbol of devotion, simplicity, and spiritual quest.\n"
     ]
    }
   ],
   "source": [
    "client = Groq(\n",
    "    api_key='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',\n",
    ")\n",
    "\n",
    "chat_completion = client.chat.completions.create(\n",
    "    messages=[\n",
    "        {\n",
    "            \"role\": \"user\",\n",
    "            \"content\": \"who was Tukaram\",\n",
    "        }\n",
    "    ],\n",
    "    model=\"llama3-8b-8192\",\n",
    ")\n",
    "\n",
    "print(chat_completion.choices[0].message.content)"
   ]
  },
  {
   "cell_type": "code",
   "execution_count": null,
   "metadata": {},
   "outputs": [],
   "source": []
  }
 ],
 "metadata": {
  "kernelspec": {
   "display_name": "Python [conda env:LLM_env_dsml34]",
   "language": "python",
   "name": "conda-env-LLM_env_dsml34-py"
  },
  "language_info": {
   "codemirror_mode": {
    "name": "ipython",
    "version": 3
   },
   "file_extension": ".py",
   "mimetype": "text/x-python",
   "name": "python",
   "nbconvert_exporter": "python",
   "pygments_lexer": "ipython3",
   "version": "3.13.1"
  },
  "widgets": {
   "application/vnd.jupyter.widget-state+json": {
    "state": {},
    "version_major": 2,
    "version_minor": 0
   }
  }
 },
 "nbformat": 4,
 "nbformat_minor": 4
}
